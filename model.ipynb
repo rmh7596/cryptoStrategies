{
 "cells": [
  {
   "cell_type": "code",
   "execution_count": 1,
   "metadata": {},
   "outputs": [],
   "source": [
    "import pandas as pd\n",
    "import os\n",
    "import numpy as np"
   ]
  },
  {
   "cell_type": "markdown",
   "metadata": {},
   "source": [
    "## Combining all the CSV's together"
   ]
  },
  {
   "cell_type": "code",
   "execution_count": 20,
   "metadata": {},
   "outputs": [],
   "source": [
    "for f in os.listdir(\"/Users/RyanHaver/Projects/cryptoStrategies/data/\"):\n",
    "    csv = open(\"/Users/RyanHaver/Projects/cryptoStrategies/data/\"+f, mode='r')\n",
    "    try:\n",
    "        tmp = pd.read_csv(csv, encoding=\"utf-8\")\n",
    "        tmp.columns=[\"open_time\",\"open\",\"high\",\"low\",\"close\",\"volume\",\"close_time\",\"quote_volume\",\"count\",\"taker_buy_base_volume\",\"taker_buy_quote_volume\"]\n",
    "        tmp.to_csv(\"full_data.csv\", mode='a', header=False)\n",
    "    except UnicodeDecodeError:\n",
    "        print(f)\n",
    "        break"
   ]
  },
  {
   "cell_type": "markdown",
   "metadata": {},
   "source": [
    "## Model\n",
    "Try to model the closing prices as a discrete time markov chain"
   ]
  },
  {
   "cell_type": "code",
   "execution_count": 2,
   "metadata": {},
   "outputs": [
    {
     "data": {
      "text/html": [
       "<div>\n",
       "<style scoped>\n",
       "    .dataframe tbody tr th:only-of-type {\n",
       "        vertical-align: middle;\n",
       "    }\n",
       "\n",
       "    .dataframe tbody tr th {\n",
       "        vertical-align: top;\n",
       "    }\n",
       "\n",
       "    .dataframe thead th {\n",
       "        text-align: right;\n",
       "    }\n",
       "</style>\n",
       "<table border=\"1\" class=\"dataframe\">\n",
       "  <thead>\n",
       "    <tr style=\"text-align: right;\">\n",
       "      <th></th>\n",
       "      <th>open_time</th>\n",
       "      <th>open</th>\n",
       "      <th>high</th>\n",
       "      <th>low</th>\n",
       "      <th>close</th>\n",
       "      <th>volume</th>\n",
       "      <th>close_time</th>\n",
       "      <th>quote_volume</th>\n",
       "      <th>count</th>\n",
       "      <th>taker_buy_base_volume</th>\n",
       "      <th>taker_buy_quote_volume</th>\n",
       "    </tr>\n",
       "  </thead>\n",
       "  <tbody>\n",
       "    <tr>\n",
       "      <th>0</th>\n",
       "      <td>1643587200000</td>\n",
       "      <td>37903.79</td>\n",
       "      <td>37975.18</td>\n",
       "      <td>37888.67</td>\n",
       "      <td>37889.39</td>\n",
       "      <td>2.554087</td>\n",
       "      <td>1643587499999</td>\n",
       "      <td>96854.0703</td>\n",
       "      <td>134</td>\n",
       "      <td>0.660383</td>\n",
       "      <td>25047.2682</td>\n",
       "    </tr>\n",
       "    <tr>\n",
       "      <th>1</th>\n",
       "      <td>1643587500000</td>\n",
       "      <td>37888.28</td>\n",
       "      <td>37888.28</td>\n",
       "      <td>37686.82</td>\n",
       "      <td>37729.56</td>\n",
       "      <td>12.950465</td>\n",
       "      <td>1643587799999</td>\n",
       "      <td>488764.8137</td>\n",
       "      <td>374</td>\n",
       "      <td>3.971217</td>\n",
       "      <td>149819.6045</td>\n",
       "    </tr>\n",
       "    <tr>\n",
       "      <th>2</th>\n",
       "      <td>1643587800000</td>\n",
       "      <td>37782.08</td>\n",
       "      <td>37792.44</td>\n",
       "      <td>37713.05</td>\n",
       "      <td>37726.36</td>\n",
       "      <td>2.429988</td>\n",
       "      <td>1643588099999</td>\n",
       "      <td>91781.5867</td>\n",
       "      <td>150</td>\n",
       "      <td>2.250003</td>\n",
       "      <td>84984.6178</td>\n",
       "    </tr>\n",
       "    <tr>\n",
       "      <th>3</th>\n",
       "      <td>1643588100000</td>\n",
       "      <td>37729.12</td>\n",
       "      <td>37797.08</td>\n",
       "      <td>37665.32</td>\n",
       "      <td>37686.17</td>\n",
       "      <td>2.535778</td>\n",
       "      <td>1643588399999</td>\n",
       "      <td>95671.7820</td>\n",
       "      <td>152</td>\n",
       "      <td>0.607303</td>\n",
       "      <td>22918.7153</td>\n",
       "    </tr>\n",
       "    <tr>\n",
       "      <th>4</th>\n",
       "      <td>1643588400000</td>\n",
       "      <td>37673.00</td>\n",
       "      <td>37729.72</td>\n",
       "      <td>37663.63</td>\n",
       "      <td>37675.18</td>\n",
       "      <td>0.937727</td>\n",
       "      <td>1643588699999</td>\n",
       "      <td>35346.8969</td>\n",
       "      <td>119</td>\n",
       "      <td>0.229773</td>\n",
       "      <td>8659.2036</td>\n",
       "    </tr>\n",
       "  </tbody>\n",
       "</table>\n",
       "</div>"
      ],
      "text/plain": [
       "       open_time      open      high       low     close     volume  \\\n",
       "0  1643587200000  37903.79  37975.18  37888.67  37889.39   2.554087   \n",
       "1  1643587500000  37888.28  37888.28  37686.82  37729.56  12.950465   \n",
       "2  1643587800000  37782.08  37792.44  37713.05  37726.36   2.429988   \n",
       "3  1643588100000  37729.12  37797.08  37665.32  37686.17   2.535778   \n",
       "4  1643588400000  37673.00  37729.72  37663.63  37675.18   0.937727   \n",
       "\n",
       "      close_time  quote_volume  count  taker_buy_base_volume  \\\n",
       "0  1643587499999    96854.0703    134               0.660383   \n",
       "1  1643587799999   488764.8137    374               3.971217   \n",
       "2  1643588099999    91781.5867    150               2.250003   \n",
       "3  1643588399999    95671.7820    152               0.607303   \n",
       "4  1643588699999    35346.8969    119               0.229773   \n",
       "\n",
       "   taker_buy_quote_volume  \n",
       "0              25047.2682  \n",
       "1             149819.6045  \n",
       "2              84984.6178  \n",
       "3              22918.7153  \n",
       "4               8659.2036  "
      ]
     },
     "execution_count": 2,
     "metadata": {},
     "output_type": "execute_result"
    }
   ],
   "source": [
    "full_df = pd.read_csv(open(\"/Users/RyanHaver/Projects/cryptoStrategies/full_data.csv\"))\n",
    "full_df.head()"
   ]
  },
  {
   "cell_type": "code",
   "execution_count": 3,
   "metadata": {},
   "outputs": [],
   "source": [
    "closePrices = full_df['close']"
   ]
  },
  {
   "cell_type": "code",
   "execution_count": 4,
   "metadata": {},
   "outputs": [
    {
     "name": "stdout",
     "output_type": "stream",
     "text": [
      "[-159.83   -3.2   -40.19 ...  -15.05   55.11  -46.33]\n"
     ]
    }
   ],
   "source": [
    "# Calculate price changes\n",
    "price_changes = np.diff(closePrices)\n",
    "\n",
    "print(price_changes)"
   ]
  },
  {
   "cell_type": "code",
   "execution_count": 5,
   "metadata": {},
   "outputs": [],
   "source": [
    "# Define bins\n",
    "bins = range(0,100000,1)\n",
    "labels = range(0,100000,1)\n",
    "\n",
    "# Discretize the price changes into states\n",
    "states = np.digitize(price_changes, bins, right=True) - 1"
   ]
  },
  {
   "cell_type": "code",
   "execution_count": 6,
   "metadata": {},
   "outputs": [
    {
     "name": "stdout",
     "output_type": "stream",
     "text": [
      "[-1 -1 -1 ... -1 55 -1]\n"
     ]
    }
   ],
   "source": [
    "print(states)"
   ]
  },
  {
   "cell_type": "code",
   "execution_count": 6,
   "metadata": {},
   "outputs": [],
   "source": [
    "# Number of states\n",
    "num_states = len(labels)\n",
    "\n",
    "# Initialize transition matrix\n",
    "transition_matrix = np.zeros((num_states, num_states))"
   ]
  },
  {
   "cell_type": "code",
   "execution_count": 7,
   "metadata": {},
   "outputs": [
    {
     "ename": "",
     "evalue": "",
     "output_type": "error",
     "traceback": [
      "\u001b[1;31mThe Kernel crashed while executing code in the current cell or a previous cell. \n",
      "\u001b[1;31mPlease review the code in the cell(s) to identify a possible cause of the failure. \n",
      "\u001b[1;31mClick <a href='https://aka.ms/vscodeJupyterKernelCrash'>here</a> for more info. \n",
      "\u001b[1;31mView Jupyter <a href='command:jupyter.viewOutput'>log</a> for further details."
     ]
    }
   ],
   "source": [
    "# Count the transitions\n",
    "for i in range(len(states) - 1):\n",
    "    current_state = int(states[i])\n",
    "    next_state = int(states[i + 1])\n",
    "    transition_matrix[current_state, next_state] += 1\n",
    "\n",
    "# Normalize the rows to get probabilities\n",
    "transition_probabilities = transition_matrix / transition_matrix.sum(axis=1, keepdims=True)\n",
    "\n",
    "print(\"Price Changes:\", price_changes)\n",
    "print(\"States:\", states)\n",
    "print(\"Transition Matrix (Counts):\\n\", transition_matrix)\n",
    "print(\"Transition Probabilities:\\n\", transition_probabilities)"
   ]
  },
  {
   "cell_type": "code",
   "execution_count": null,
   "metadata": {},
   "outputs": [],
   "source": []
  }
 ],
 "metadata": {
  "kernelspec": {
   "display_name": "Python 3",
   "language": "python",
   "name": "python3"
  },
  "language_info": {
   "codemirror_mode": {
    "name": "ipython",
    "version": 3
   },
   "file_extension": ".py",
   "mimetype": "text/x-python",
   "name": "python",
   "nbconvert_exporter": "python",
   "pygments_lexer": "ipython3",
   "version": "3.8.5"
  }
 },
 "nbformat": 4,
 "nbformat_minor": 2
}
